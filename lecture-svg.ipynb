{
 "cells": [
  {
   "cell_type": "code",
   "execution_count": 1,
   "metadata": {},
   "outputs": [],
   "source": [
    "from svgpathtools import svg2paths"
   ]
  },
  {
   "cell_type": "code",
   "execution_count": 7,
   "metadata": {},
   "outputs": [],
   "source": [
    "paths, attributes = svg2paths('Champ Dragon Ladies - V2.svg')"
   ]
  },
  {
   "cell_type": "code",
   "execution_count": 12,
   "metadata": {},
   "outputs": [
    {
     "data": {
      "text/plain": [
       "Path(Line(start=(595.33+631.41j), end=(591.25+624.61j)),\n",
       "     Line(start=(591.25+624.61j), end=(590.4+623.1800000000001j)),\n",
       "     CubicBezier(start=(590.4+623.1800000000001j), control1=(539.53+629.2500000000001j), control2=(489.09+635.34j), end=(439.89+638.2600000000001j)),\n",
       "     Arc(start=(439.89+638.2600000000001j), radius=(996.27+996.27j), rotation=0.0, large_arc=False, sweep=True, end=(247.07999999999998+628.5400000000001j)),\n",
       "     CubicBezier(start=(247.07999999999998+628.5400000000001j), control1=(363.15+666.5400000000001j), control2=(482.83+656.9200000000001j), end=(602.53+643.3800000000001j)),\n",
       "     Line(start=(602.53+643.3800000000001j), end=(595.33+631.41j)))"
      ]
     },
     "execution_count": 12,
     "metadata": {},
     "output_type": "execute_result"
    }
   ],
   "source": [
    "test_path = paths[1]\n",
    "test_path"
   ]
  },
  {
   "cell_type": "code",
   "execution_count": 15,
   "metadata": {},
   "outputs": [],
   "source": [
    "test_path.approximate_arcs_with_cubics()"
   ]
  },
  {
   "cell_type": "code",
   "execution_count": 20,
   "metadata": {},
   "outputs": [
    {
     "ename": "AttributeError",
     "evalue": "'Path' object has no attribute 'points'",
     "output_type": "error",
     "traceback": [
      "\u001b[0;31m---------------------------------------------------------------------------\u001b[0m",
      "\u001b[0;31mAttributeError\u001b[0m                            Traceback (most recent call last)",
      "Cell \u001b[0;32mIn[20], line 1\u001b[0m\n\u001b[0;32m----> 1\u001b[0m \u001b[43mtest_path\u001b[49m\u001b[38;5;241;43m.\u001b[39;49m\u001b[43mpoints\u001b[49m([\u001b[38;5;241m0\u001b[39m, \u001b[38;5;241m0.5\u001b[39m, \u001b[38;5;241m1\u001b[39m])\n",
      "\u001b[0;31mAttributeError\u001b[0m: 'Path' object has no attribute 'points'"
     ]
    }
   ],
   "source": [
    "test_path.points([0, 0.5, 1])"
   ]
  }
 ],
 "metadata": {
  "kernelspec": {
   "display_name": "papa-bezier",
   "language": "python",
   "name": "python3"
  },
  "language_info": {
   "codemirror_mode": {
    "name": "ipython",
    "version": 3
   },
   "file_extension": ".py",
   "mimetype": "text/x-python",
   "name": "python",
   "nbconvert_exporter": "python",
   "pygments_lexer": "ipython3",
   "version": "3.9.17"
  }
 },
 "nbformat": 4,
 "nbformat_minor": 2
}
