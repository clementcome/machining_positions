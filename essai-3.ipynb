{
 "cells": [
  {
   "cell_type": "code",
   "execution_count": 2,
   "metadata": {},
   "outputs": [],
   "source": [
    "%load_ext autoreload\n",
    "%autoreload 2"
   ]
  },
  {
   "cell_type": "code",
   "execution_count": 3,
   "metadata": {},
   "outputs": [],
   "source": [
    "from machining_positions.load import SVGBezierLoader\n",
    "from machining_positions.compute import (\n",
    "    envelope_from_svg_points,\n",
    "    machining_positions_and_distances_from_envelope,\n",
    "    dataframe_from_machining_positions_and_distances,\n",
    ")\n",
    "from scipy.spatial import distance\n",
    "import matplotlib.pyplot as plt\n",
    "import plotly.express as px\n",
    "from tqdm import tqdm\n",
    "import pandas as pd\n",
    "import numpy as np"
   ]
  },
  {
   "cell_type": "code",
   "execution_count": 4,
   "metadata": {},
   "outputs": [],
   "source": [
    "paths = SVGBezierLoader(\"Champ Dragon Ladies - V2.svg\").load()"
   ]
  },
  {
   "cell_type": "code",
   "execution_count": 44,
   "metadata": {},
   "outputs": [
    {
     "name": "stderr",
     "output_type": "stream",
     "text": [
      "  0%|          | 0/44 [00:00<?, ?it/s]\n"
     ]
    }
   ],
   "source": [
    "envelope_array_list = []\n",
    "machining_positions_list = []\n",
    "for path in tqdm(paths):\n",
    "    envelope_array = envelope_from_svg_points(path, 100)\n",
    "    envelope_array_list.append(envelope_array)\n",
    "    (\n",
    "        machining_positions,\n",
    "        machining_distances,\n",
    "    ) = machining_positions_and_distances_from_envelope(envelope_array, resolution=1)\n",
    "    machining_positions_list.append(machining_positions)\n",
    "    break"
   ]
  },
  {
   "cell_type": "code",
   "execution_count": 45,
   "metadata": {},
   "outputs": [],
   "source": [
    "envelope_array_df = (\n",
    "    pd.concat(\n",
    "        dict(\n",
    "            zip(range(len(envelope_array_list)), map(pd.DataFrame, envelope_array_list))\n",
    "        )\n",
    "    )\n",
    "    .rename(columns={0: \"x\", 1: \"y\"})\n",
    "    .reset_index(level=0, names=(\"shape\"))\n",
    ")\n",
    "machining_positions_df = (\n",
    "    pd.concat(\n",
    "        dict(\n",
    "            zip(range(len(machining_positions_list)), map(pd.DataFrame, machining_positions_list))\n",
    "        )\n",
    "    )\n",
    "    .rename(columns={0: \"x\", 1: \"y\"})\n",
    "    .reset_index(level=0, names=(\"shape\"))\n",
    ")"
   ]
  },
  {
   "cell_type": "code",
   "execution_count": 46,
   "metadata": {},
   "outputs": [],
   "source": [
    "def closest_point(point, points):\n",
    "    distances = distance.cdist([point], points)\n",
    "    index_closest = distances.argmin()\n",
    "    distance_closest = distances[0, index_closest]\n",
    "    return points[index_closest], index_closest, distance_closest"
   ]
  },
  {
   "cell_type": "code",
   "execution_count": 47,
   "metadata": {},
   "outputs": [],
   "source": [
    "start_index = machining_positions.argmin(axis=0)[0]\n",
    "# Find the closest point to the start point that is not the start point\n",
    "# machining_positions is a numpy array, so we have to index it properly to\n",
    "# remove only start_index from the search\n",
    "search_positions = machining_positions[np.arange(len(machining_positions)) != start_index]\n",
    "ordered_points_all = []\n",
    "ordered_points_subset = []\n",
    "current_distances = []\n",
    "while len(search_positions) > 0:\n",
    "    next_point, next_index, next_distance = closest_point(first_point, search_positions)\n",
    "    search_positions = search_positions[np.arange(len(search_positions)) != next_index]\n",
    "    current_distances.append(next_distance)\n",
    "    if next_distance > 5*sum(current_distances)/len(current_distances):\n",
    "        ordered_points_all.append(ordered_points_subset)\n",
    "        ordered_points_subset = []\n",
    "        current_distances = []\n",
    "    ordered_points_subset.append(next_point)\n",
    "    first_point = next_point\n",
    "ordered_points_all.append(ordered_points_subset)"
   ]
  },
  {
   "cell_type": "code",
   "execution_count": 59,
   "metadata": {},
   "outputs": [
    {
     "data": {
      "text/plain": [
       "array([[577.55606617, 602.89727845],\n",
       "       [577.54520521, 603.6074461 ],\n",
       "       [576.86154591, 604.86690161],\n",
       "       [576.7563031 , 605.24966959],\n",
       "       [576.11609629, 606.51823359],\n",
       "       [575.99274673, 606.87663332],\n",
       "       [575.7705416 , 607.32887801],\n",
       "       [575.45065155, 607.37293482],\n",
       "       [575.24284314, 607.37773034],\n",
       "       [574.4576076 , 607.48608041],\n",
       "       [574.24883925, 607.49069315],\n",
       "       [573.46454275, 607.59912365],\n",
       "       [573.25470992, 607.60354844],\n",
       "       [572.47153572, 607.71204045],\n",
       "       [572.26051203, 607.71627197],\n",
       "       [571.47856968, 607.8248171 ],\n",
       "       [571.26625971, 607.82884873],\n",
       "       [570.48543389, 607.93747023],\n",
       "       [570.27201673, 607.94128982],\n",
       "       [569.4922721 , 608.04999994],\n",
       "       [569.27768101, 608.05359965],\n",
       "       [568.49908281, 608.16239703],\n",
       "       [568.28326799, 608.16576817],\n",
       "       [567.50586462, 608.27465415],\n",
       "       [567.28880216, 608.27778712],\n",
       "       [566.51283886, 608.38673573],\n",
       "       [566.29432135, 608.38962277],\n",
       "       [565.51956472, 608.49867601],\n",
       "       [565.29976875, 608.50130355],\n",
       "       [564.52625319, 608.61046593],\n",
       "       [564.30513402, 608.61282295],\n",
       "       [563.53290774, 608.72209749],\n",
       "       [563.31044528, 608.72417209],\n",
       "       [562.53952716, 608.83356642],\n",
       "       [562.3157315 , 608.83534582],\n",
       "       [561.54625156, 608.94485224],\n",
       "       [561.32095487, 608.94632417],\n",
       "       [560.55288304, 609.05595862],\n",
       "       [560.32609358, 609.05710859],\n",
       "       [559.5593896 , 609.166889  ],\n",
       "       [559.33117713, 609.16770169],\n",
       "       [558.56585595, 609.27763859],\n",
       "       [558.3362249 , 609.27809842],\n",
       "       [557.57228102, 609.38820595],\n",
       "       [557.34121803, 609.38829657],\n",
       "       [556.57872764, 609.4985778 ],\n",
       "       [556.34612932, 609.49828179],\n",
       "       [555.58522561, 609.60873243],\n",
       "       [555.35098051, 609.6080309 ],\n",
       "       [554.59151786, 609.71868821],\n",
       "       [554.35578805, 609.71756211],\n",
       "       [553.59776363, 609.82844318],\n",
       "       [553.36054137, 609.8268721 ],\n",
       "       [552.6039617 , 609.93799365],\n",
       "       [552.36521862, 609.93595589],\n",
       "       [551.61011065, 610.04733268],\n",
       "       [551.36983858, 610.04480539],\n",
       "       [550.61642094, 610.15642491],\n",
       "       [550.37440339, 610.1533811 ],\n",
       "       [549.6224724 , 610.26529526],\n",
       "       [549.37891156, 610.26171144],\n",
       "       [548.62846468, 610.37394314],\n",
       "       [548.3833487 , 610.36979196],\n",
       "       [547.63440265, 610.48236264],\n",
       "       [547.38772744, 610.47761522],\n",
       "       [546.64028503, 610.59054998],\n",
       "       [546.39205165, 610.5851757 ],\n",
       "       [545.64625341, 610.69848043],\n",
       "       [545.39631211, 610.69244293],\n",
       "       [544.65208563, 610.80615825],\n",
       "       [544.4005045 , 610.79942375],\n",
       "       [543.65779113, 610.9135901 ],\n",
       "       [543.40463731, 610.90612309],\n",
       "       [542.66343582, 611.02077412],\n",
       "       [542.40871081, 611.01253498],\n",
       "       [541.66901843, 611.12770704],\n",
       "       [541.41272196, 611.11865332],\n",
       "       [540.67461972, 611.23437233],\n",
       "       [540.4166684 , 611.2244552 ],\n",
       "       [539.68018854, 611.34075799],\n",
       "       [539.42055012, 611.3299265 ],\n",
       "       [538.68557396, 611.44687736],\n",
       "       [538.42436735, 611.43508352],\n",
       "       [537.69089202, 611.5527315 ],\n",
       "       [537.42812086, 611.53991883],\n",
       "       [536.69614144, 611.65831737],\n",
       "       [536.43181462, 611.64442521],\n",
       "       [535.70135189, 611.76362801],\n",
       "       [535.43544477, 611.74858882],\n",
       "       [534.70661161, 611.86863958],\n",
       "       [534.43899865, 611.85237338],\n",
       "       [533.71164359, 611.97336597],\n",
       "       [533.44248934, 611.95580419],\n",
       "       [532.7166017 , 612.07781454],\n",
       "       [532.44592025, 612.05887331],\n",
       "       [531.72148476, 612.18198522],\n",
       "       [531.4492864 , 612.16157269],\n",
       "       [530.72629152, 612.2858774 ],\n",
       "       [530.45257459, 612.26389204],\n",
       "       [529.73117657, 612.38946069],\n",
       "       [529.45579511, 612.36577787],\n",
       "       [528.73583141, 612.49274921],\n",
       "       [528.4589524 , 612.46725953],\n",
       "       [527.74039691, 612.59575907],\n",
       "       [527.4620414 , 612.56832876],\n",
       "       [526.74488111, 612.69849329],\n",
       "       [526.46504296, 612.66897116],\n",
       "       [525.74928265, 612.80094995],\n",
       "       [525.46798667, 612.76917114],\n",
       "       [524.75370846, 612.90311718],\n",
       "       [524.47085488, 612.86888121],\n",
       "       [523.75797315, 613.00500236],\n",
       "       [523.47364595, 612.96810704],\n",
       "       [522.76211491, 613.10662814],\n",
       "       [522.47633924, 613.06683813],\n",
       "       [521.76616941, 613.20800217],\n",
       "       [521.47897314, 613.16505131],\n",
       "       [520.77013595, 613.30914459],\n",
       "       [520.48152467, 613.26272517],\n",
       "       [519.7740826 , 613.410058  ],\n",
       "       [519.48397987, 613.35980086],\n",
       "       [518.77791653, 613.51075375],\n",
       "       [518.48632818, 613.45624611],\n",
       "       [517.78160755, 613.61126715],\n",
       "       [517.48859564, 613.55204044],\n",
       "       [516.78520757, 613.71164916],\n",
       "       [516.49075898, 613.64713604],\n",
       "       [515.78871627, 613.81194502],\n",
       "       [515.49279874, 613.74146705],\n",
       "       [514.79217244, 613.91219885],\n",
       "       [514.49470793, 613.83492821],\n",
       "       [513.79554579, 614.01247323],\n",
       "       [513.49648163, 613.9274093 ],\n",
       "       [512.79877439, 614.11288524],\n",
       "       [512.49809368, 614.01880822],\n",
       "       [511.80191434, 614.21358812],\n",
       "       [511.49950245, 614.10893846],\n",
       "       [510.80496808, 614.31476429],\n",
       "       [510.50069003, 614.19754756],\n",
       "       [509.80795767, 614.4166853 ],\n",
       "       [509.50159345, 614.28426284],\n",
       "       [508.81089   , 614.51973728],\n",
       "       [508.50211899, 614.3685246 ],\n",
       "       [507.81371554, 614.62452578],\n",
       "       [507.50212937, 614.44953717],\n",
       "       [506.81649555, 614.73201052],\n",
       "       [506.50143052, 614.52593718],\n",
       "       [505.81926255, 614.84382047],\n",
       "       [505.49962243, 614.59530555],\n",
       "       [504.8220795 , 614.96290226],\n",
       "       [504.49593853, 614.65286896],\n",
       "       [         nan,          nan],\n",
       "       [576.47308558, 607.70084781],\n",
       "       [576.52798898, 607.72163686],\n",
       "       [577.51014779, 608.24286484],\n",
       "       [577.56733945, 608.26313488],\n",
       "       [578.54764049, 608.785122  ],\n",
       "       [578.60733334, 608.80424553],\n",
       "       [579.5857531 , 609.32791142],\n",
       "       [579.64834537, 609.34474318],\n",
       "       [580.62438013, 609.87167783],\n",
       "       [580.69156645, 609.88391085],\n",
       "       [581.6636155 , 610.41791059],\n",
       "       [581.74283667, 610.41823242],\n",
       "       [582.70397726, 610.97422924],\n",
       "       [         nan,          nan]])"
      ]
     },
     "execution_count": 59,
     "metadata": {},
     "output_type": "execute_result"
    }
   ],
   "source": [
    "# Concatenate all the ordered points into a single array with a point NaN separator between each subset\n",
    "ordered_points_array = np.concatenate(\n",
    "    [np.concatenate([np.array(ordered_points_subset), np.array([[np.nan, np.nan]])]) for ordered_points_subset in ordered_points_all]\n",
    ")\n",
    "ordered_points_array"
   ]
  },
  {
   "cell_type": "code",
   "execution_count": 60,
   "metadata": {},
   "outputs": [
    {
     "data": {
      "text/plain": [
       "(496.0265, 587.4035000000001, 601.874, 615.866)"
      ]
     },
     "execution_count": 60,
     "metadata": {},
     "output_type": "execute_result"
    },
    {
     "data": {
      "image/png": "[encoded data removed]",
      "text/plain": [
       "<Figure size 640x480 with 1 Axes>"
      ]
     },
     "metadata": {},
     "output_type": "display_data"
    }
   ],
   "source": [
    "plt.plot(*envelope_array.T)\n",
    "# plt.plot(*machining_positions.T)\n",
    "plt.plot(*ordered_points_array.T)\n",
    "# for points in ordered_points_all:\n",
    "#     plt.scatter(*np.array(points).T)\n",
    "plt.axis(\"equal\")"
   ]
  },
  {
   "cell_type": "code",
   "execution_count": null,
   "metadata": {},
   "outputs": [],
   "source": [
    "# Create the line plot\n",
    "fig = px.line(envelope_array_df, x=\"x\", y=\"y\", color=\"shape\")\n",
    "\n",
    "for shape in machining_positions_df[\"shape\"].unique():\n",
    "    mask_shape = machining_positions_df[\"shape\"] == shape\n",
    "    # n_sample = int(0.2 * mask_shape.sum())\n",
    "    # machining_positions_shape = machining_positions_df[mask_shape].sample(n_sample)\n",
    "    machining_positions_shape = machining_positions_df[mask_shape]\n",
    "    fig.add_scatter(\n",
    "        x=machining_positions_shape[\"x\"],\n",
    "        y=machining_positions_shape[\"y\"],\n",
    "        mode=\"markers\",\n",
    "    )\n",
    "fig.update_yaxes(\n",
    "    scaleanchor=\"x\",\n",
    "    scaleratio=1,\n",
    ")"
   ]
  },
  {
   "cell_type": "code",
   "execution_count": 41,
   "metadata": {},
   "outputs": [
    {
     "data": {
      "application/vnd.plotly.v1+json": {
       "config": {
        "plotlyServerURL": "https://plot.ly"
       },
       "data": [
        {
         "hovertemplate": "x=%{x}<br>y=%{y}<extra></extra>",
         "legendgroup": "",
         "line": {
          "color": "#636efa",
          "dash": "solid"
         },
         "marker": {
          "symbol": "circle"
         },
         "mode": "lines",
         "name": "",
         "orientation": "v",
         "showlegend": false,
         "type": "scatter",
         "x": [
          563.3632379595116,
          571.9211423515401,
          521.2525689299127,
          539.8104113643936,
          532.8072418003009,
          536.4342450748535,
          564.9765480840185,
          565.1528542904648,
          563.461255751768,
          568.2053750294816,
          566.5906021948208,
          566.8446376875158,
          571.4369828076866,
          568.5366105924518,
          570.2287774172283,
          569.8208427559389,
          543.1870509332462,
          544.029534456716,
          547.24466033692,
          558.5226815412093,
          546.5642295922041,
          545.6366636735416,
          544.8755691369433,
          511.1406009692035,
          520.0164101252974,
          538.1222735954902,
          537.6104071929619,
          539.2136985450521,
          533.0584741883025,
          536.0081917978563,
          534.4071130243663,
          534.7463156685972,
          521.614263315199,
          522.9381924256309,
          523.2129931632088,
          580.6019707114084,
          575.3064822758292,
          577.0556107244067,
          542.4233055390907,
          541.4986676379601,
          540.8180133279789,
          561.7698371668748,
          561.7506987062552,
          560.1367077532854,
          560.0793812270202,
          553.6847582229251,
          510.4484323595864,
          519.5670413134218,
          516.8233856442569,
          517.8816028710496,
          518.4194465543669,
          512.0407505405876,
          516.1962467342832,
          515.2282405191507,
          526.4130313870749,
          578.17280247006,
          578.8266620623021,
          578.7562770928071,
          574.6711951164169,
          573.0537737418366,
          573.6137093763423,
          576.019004592191,
          575.7549283093655,
          575.7961151309132,
          577.0420900867139,
          555.2966875831011,
          555.0098923969927,
          548.2530391684875,
          548.853494546145,
          552.0735679579433,
          553.3204253332103,
          506.0854324739528,
          507.26671695264577,
          513.6340243869352,
          514.5109658687321,
          512.8257530716145,
          526.3097530727291,
          524.8125867881207,
          524.6239183447144,
          531.370708161493,
          531.2086621492799,
          528.0143142342654,
          527.9957028390255,
          529.6114750228503,
          529.6830035303094,
          582.3159409055667,
          582.2268950297768,
          581.1813720623467,
          581.8136866273527,
          580.0982992264908,
          579.4660468662671,
          578.5699045690172,
          578.3754130281003,
          579.2309450349901,
          578.9836676814438,
          576.4867693476458,
          576.6711683742594,
          577.2263375837302,
          577.265978370541,
          576.4465111523772,
          576.2358032660144,
          575.9892993255818,
          575.8660435389212,
          577.9620728948926,
          577.7432243025994,
          577.2811700666355,
          577.5162566931785,
          576.6511282512813,
          576.8496545627253,
          556.9093352479373,
          556.6995374899154,
          558.3893655359695,
          551.6311311233097,
          550.4631388700774,
          549.9420043182428,
          505.67734693115244,
          509.4555020142313,
          508.8570833113413,
          507.77044848325056,
          581.9757678906695,
          582.1135040248112,
          580.6381033731304,
          580.9219102823265,
          581.4164887131906,
          581.6272602348597,
          580.4589231886329,
          580.2846989686963,
          579.8997239620165,
          579.6889731752763,
          576.2779152594607,
          576.1003258966648,
          576.1412514350702,
          576.9666012427653,
          576.8311123392982,
          577.0776350846601,
          577.1642138649813,
          577.2640062409066,
          577.2772198365102
         ],
         "xaxis": "x",
         "y": [
          608.7237344554256,
          607.8012117412547,
          613.3230777112947,
          611.3747920296166,
          612.0107892965751,
          611.726397896379,
          608.5355772371604,
          608.5493425540469,
          608.7327781001414,
          608.1608958641924,
          608.347984204572,
          608.3643742739796,
          607.7880369198623,
          608.1779706278035,
          607.990221830482,
          607.9742612523323,
          611.0136469486553,
          610.796997163102,
          610.4552777793674,
          609.2596092378702,
          610.6444907260317,
          610.626045749445,
          610.829990186591,
          614.4442280054524,
          613.2538631377925,
          611.5519009114671,
          611.4850269034916,
          611.3120826698904,
          612.0664085247035,
          611.6589339649064,
          611.8340762102339,
          611.8980083095289,
          613.1148154472756,
          613.1328583741735,
          612.9744775003603,
          610.007493357897,
          607.4197154152995,
          608.0667299528119,
          610.9682337788181,
          611.195306394964,
          611.1398790165672,
          608.9145754715565,
          608.9125250672442,
          609.0882913360431,
          609.1078379557164,
          609.7725736781728,
          614.0594399521112,
          613.5123640498138,
          613.5279725934271,
          613.700700944682,
          613.3915917904208,
          613.9287393097802,
          613.8880720302852,
          613.6629767036972,
          612.6900458188715,
          608.5888464580071,
          609.0183190500608,
          608.9649554574883,
          607.4166777482949,
          607.6021860588222,
          607.6110185567175,
          607.4609104537029,
          607.333822746881,
          607.3526381589892,
          608.0572776053012,
          609.6017305867008,
          609.6936392004883,
          610.4572849588985,
          610.2846094190119,
          609.9433084585598,
          609.8865784760851,
          614.991110549113,
          614.3163350133378,
          613.7965752455887,
          614.0744610222733,
          614.2598517194122,
          612.7496868706248,
          612.8328780494265,
          612.9417225611188,
          612.2312137184365,
          612.1894897728224,
          612.5460095062309,
          612.5567679752327,
          612.3706988801081,
          612.3919617587201,
          611.1861983992769,
          610.9973436706375,
          610.1720192542629,
          610.518723471994,
          609.6117683345473,
          609.2650266655423,
          608.83469762128,
          608.7093279547855,
          609.1641070018464,
          609.0705177844696,
          605.7244896445383,
          605.3710035239686,
          603.8244256847629,
          603.0731611921419,
          607.6884561787383,
          607.5728497936203,
          606.7513967386559,
          607.0680707021457,
          608.4732531309425,
          608.3625479735923,
          608.1558021680357,
          608.256730985956,
          607.8077296090577,
          607.9306700845776,
          609.4307499877576,
          609.4994882501254,
          609.3041987659542,
          610.0782260703344,
          610.113971769911,
          610.2684939979308,
          614.4424713591657,
          614.6275738510204,
          614.1886481924138,
          614.8098733155297,
          610.6636062069957,
          610.8231462732105,
          610.0141697651711,
          610.0857658441107,
          610.2729299956271,
          610.3884980682045,
          609.8795816788141,
          609.7420097835213,
          609.4888573318922,
          609.3732767755578,
          606.0926992826811,
          606.4420855483131,
          606.3170072860348,
          604.7082018355616,
          605.0322409209786,
          604.3988862677188,
          604.1042942174538,
          603.5592806696473,
          603.3088591721063
         ],
         "yaxis": "y"
        }
       ],
       "layout": {
        "legend": {
         "tracegroupgap": 0
        },
        "margin": {
         "t": 60
        },
        "template": {
         "data": {
          "bar": [
           {
            "error_x": {
             "color": "#2a3f5f"
            },
            "error_y": {
             "color": "#2a3f5f"
            },
            "marker": {
             "line": {
              "color": "#E5ECF6",
              "width": 0.5
             },
             "pattern": {
              "fillmode": "overlay",
              "size": 10,
              "solidity": 0.2
             }
            },
            "type": "bar"
           }
          ],
          "barpolar": [
           {
            "marker": {
             "line": {
              "color": "#E5ECF6",
              "width": 0.5
             },
             "pattern": {
              "fillmode": "overlay",
              "size": 10,
              "solidity": 0.2
             }
            },
            "type": "barpolar"
           }
          ],
          "carpet": [
           {
            "aaxis": {
             "endlinecolor": "#2a3f5f",
             "gridcolor": "white",
             "linecolor": "white",
             "minorgridcolor": "white",
             "startlinecolor": "#2a3f5f"
            },
            "baxis": {
             "endlinecolor": "#2a3f5f",
             "gridcolor": "white",
             "linecolor": "white",
             "minorgridcolor": "white",
             "startlinecolor": "#2a3f5f"
            },
            "type": "carpet"
           }
          ],
          "choropleth": [
           {
            "colorbar": {
             "outlinewidth": 0,
             "ticks": ""
            },
            "type": "choropleth"
           }
          ],
          "contour": [
           {
            "colorbar": {
             "outlinewidth": 0,
             "ticks": ""
            },
            "colorscale": [
             [
              0,
              "#0d0887"
             ],
             [
              0.1111111111111111,
              "#46039f"
             ],
             [
              0.2222222222222222,
              "#7201a8"
             ],
             [
              0.3333333333333333,
              "#9c179e"
             ],
             [
              0.4444444444444444,
              "#bd3786"
             ],
             [
              0.5555555555555556,
              "#d8576b"
             ],
             [
              0.6666666666666666,
              "#ed7953"
             ],
             [
              0.7777777777777778,
              "#fb9f3a"
             ],
             [
              0.8888888888888888,
              "#fdca26"
             ],
             [
              1,
              "#f0f921"
             ]
            ],
            "type": "contour"
           }
          ],
          "contourcarpet": [
           {
            "colorbar": {
             "outlinewidth": 0,
             "ticks": ""
            },
            "type": "contourcarpet"
           }
          ],
          "heatmap": [
           {
            "colorbar": {
             "outlinewidth": 0,
             "ticks": ""
            },
            "colorscale": [
             [
              0,
              "#0d0887"
             ],
             [
              0.1111111111111111,
              "#46039f"
             ],
             [
              0.2222222222222222,
              "#7201a8"
             ],
             [
              0.3333333333333333,
              "#9c179e"
             ],
             [
              0.4444444444444444,
              "#bd3786"
             ],
             [
              0.5555555555555556,
              "#d8576b"
             ],
             [
              0.6666666666666666,
              "#ed7953"
             ],
             [
              0.7777777777777778,
              "#fb9f3a"
             ],
             [
              0.8888888888888888,
              "#fdca26"
             ],
             [
              1,
              "#f0f921"
             ]
            ],
            "type": "heatmap"
           }
          ],
          "heatmapgl": [
           {
            "colorbar": {
             "outlinewidth": 0,
             "ticks": ""
            },
            "colorscale": [
             [
              0,
              "#0d0887"
             ],
             [
              0.1111111111111111,
              "#46039f"
             ],
             [
              0.2222222222222222,
              "#7201a8"
             ],
             [
              0.3333333333333333,
              "#9c179e"
             ],
             [
              0.4444444444444444,
              "#bd3786"
             ],
             [
              0.5555555555555556,
              "#d8576b"
             ],
             [
              0.6666666666666666,
              "#ed7953"
             ],
             [
              0.7777777777777778,
              "#fb9f3a"
             ],
             [
              0.8888888888888888,
              "#fdca26"
             ],
             [
              1,
              "#f0f921"
             ]
            ],
            "type": "heatmapgl"
           }
          ],
          "histogram": [
           {
            "marker": {
             "pattern": {
              "fillmode": "overlay",
              "size": 10,
              "solidity": 0.2
             }
            },
            "type": "histogram"
           }
          ],
          "histogram2d": [
           {
            "colorbar": {
             "outlinewidth": 0,
             "ticks": ""
            },
            "colorscale": [
             [
              0,
              "#0d0887"
             ],
             [
              0.1111111111111111,
              "#46039f"
             ],
             [
              0.2222222222222222,
              "#7201a8"
             ],
             [
              0.3333333333333333,
              "#9c179e"
             ],
             [
              0.4444444444444444,
              "#bd3786"
             ],
             [
              0.5555555555555556,
              "#d8576b"
             ],
             [
              0.6666666666666666,
              "#ed7953"
             ],
             [
              0.7777777777777778,
              "#fb9f3a"
             ],
             [
              0.8888888888888888,
              "#fdca26"
             ],
             [
              1,
              "#f0f921"
             ]
            ],
            "type": "histogram2d"
           }
          ],
          "histogram2dcontour": [
           {
            "colorbar": {
             "outlinewidth": 0,
             "ticks": ""
            },
            "colorscale": [
             [
              0,
              "#0d0887"
             ],
             [
              0.1111111111111111,
              "#46039f"
             ],
             [
              0.2222222222222222,
              "#7201a8"
             ],
             [
              0.3333333333333333,
              "#9c179e"
             ],
             [
              0.4444444444444444,
              "#bd3786"
             ],
             [
              0.5555555555555556,
              "#d8576b"
             ],
             [
              0.6666666666666666,
              "#ed7953"
             ],
             [
              0.7777777777777778,
              "#fb9f3a"
             ],
             [
              0.8888888888888888,
              "#fdca26"
             ],
             [
              1,
              "#f0f921"
             ]
            ],
            "type": "histogram2dcontour"
           }
          ],
          "mesh3d": [
           {
            "colorbar": {
             "outlinewidth": 0,
             "ticks": ""
            },
            "type": "mesh3d"
           }
          ],
          "parcoords": [
           {
            "line": {
             "colorbar": {
              "outlinewidth": 0,
              "ticks": ""
             }
            },
            "type": "parcoords"
           }
          ],
          "pie": [
           {
            "automargin": true,
            "type": "pie"
           }
          ],
          "scatter": [
           {
            "fillpattern": {
             "fillmode": "overlay",
             "size": 10,
             "solidity": 0.2
            },
            "type": "scatter"
           }
          ],
          "scatter3d": [
           {
            "line": {
             "colorbar": {
              "outlinewidth": 0,
              "ticks": ""
             }
            },
            "marker": {
             "colorbar": {
              "outlinewidth": 0,
              "ticks": ""
             }
            },
            "type": "scatter3d"
           }
          ],
          "scattercarpet": [
           {
            "marker": {
             "colorbar": {
              "outlinewidth": 0,
              "ticks": ""
             }
            },
            "type": "scattercarpet"
           }
          ],
          "scattergeo": [
           {
            "marker": {
             "colorbar": {
              "outlinewidth": 0,
              "ticks": ""
             }
            },
            "type": "scattergeo"
           }
          ],
          "scattergl": [
           {
            "marker": {
             "colorbar": {
              "outlinewidth": 0,
              "ticks": ""
             }
            },
            "type": "scattergl"
           }
          ],
          "scattermapbox": [
           {
            "marker": {
             "colorbar": {
              "outlinewidth": 0,
              "ticks": ""
             }
            },
            "type": "scattermapbox"
           }
          ],
          "scatterpolar": [
           {
            "marker": {
             "colorbar": {
              "outlinewidth": 0,
              "ticks": ""
             }
            },
            "type": "scatterpolar"
           }
          ],
          "scatterpolargl": [
           {
            "marker": {
             "colorbar": {
              "outlinewidth": 0,
              "ticks": ""
             }
            },
            "type": "scatterpolargl"
           }
          ],
          "scatterternary": [
           {
            "marker": {
             "colorbar": {
              "outlinewidth": 0,
              "ticks": ""
             }
            },
            "type": "scatterternary"
           }
          ],
          "surface": [
           {
            "colorbar": {
             "outlinewidth": 0,
             "ticks": ""
            },
            "colorscale": [
             [
              0,
              "#0d0887"
             ],
             [
              0.1111111111111111,
              "#46039f"
             ],
             [
              0.2222222222222222,
              "#7201a8"
             ],
             [
              0.3333333333333333,
              "#9c179e"
             ],
             [
              0.4444444444444444,
              "#bd3786"
             ],
             [
              0.5555555555555556,
              "#d8576b"
             ],
             [
              0.6666666666666666,
              "#ed7953"
             ],
             [
              0.7777777777777778,
              "#fb9f3a"
             ],
             [
              0.8888888888888888,
              "#fdca26"
             ],
             [
              1,
              "#f0f921"
             ]
            ],
            "type": "surface"
           }
          ],
          "table": [
           {
            "cells": {
             "fill": {
              "color": "#EBF0F8"
             },
             "line": {
              "color": "white"
             }
            },
            "header": {
             "fill": {
              "color": "#C8D4E3"
             },
             "line": {
              "color": "white"
             }
            },
            "type": "table"
           }
          ]
         },
         "layout": {
          "annotationdefaults": {
           "arrowcolor": "#2a3f5f",
           "arrowhead": 0,
           "arrowwidth": 1
          },
          "autotypenumbers": "strict",
          "coloraxis": {
           "colorbar": {
            "outlinewidth": 0,
            "ticks": ""
           }
          },
          "colorscale": {
           "diverging": [
            [
             0,
             "#8e0152"
            ],
            [
             0.1,
             "#c51b7d"
            ],
            [
             0.2,
             "#de77ae"
            ],
            [
             0.3,
             "#f1b6da"
            ],
            [
             0.4,
             "#fde0ef"
            ],
            [
             0.5,
             "#f7f7f7"
            ],
            [
             0.6,
             "#e6f5d0"
            ],
            [
             0.7,
             "#b8e186"
            ],
            [
             0.8,
             "#7fbc41"
            ],
            [
             0.9,
             "#4d9221"
            ],
            [
             1,
             "#276419"
            ]
           ],
           "sequential": [
            [
             0,
             "#0d0887"
            ],
            [
             0.1111111111111111,
             "#46039f"
            ],
            [
             0.2222222222222222,
             "#7201a8"
            ],
            [
             0.3333333333333333,
             "#9c179e"
            ],
            [
             0.4444444444444444,
             "#bd3786"
            ],
            [
             0.5555555555555556,
             "#d8576b"
            ],
            [
             0.6666666666666666,
             "#ed7953"
            ],
            [
             0.7777777777777778,
             "#fb9f3a"
            ],
            [
             0.8888888888888888,
             "#fdca26"
            ],
            [
             1,
             "#f0f921"
            ]
           ],
           "sequentialminus": [
            [
             0,
             "#0d0887"
            ],
            [
             0.1111111111111111,
             "#46039f"
            ],
            [
             0.2222222222222222,
             "#7201a8"
            ],
            [
             0.3333333333333333,
             "#9c179e"
            ],
            [
             0.4444444444444444,
             "#bd3786"
            ],
            [
             0.5555555555555556,
             "#d8576b"
            ],
            [
             0.6666666666666666,
             "#ed7953"
            ],
            [
             0.7777777777777778,
             "#fb9f3a"
            ],
            [
             0.8888888888888888,
             "#fdca26"
            ],
            [
             1,
             "#f0f921"
            ]
           ]
          },
          "colorway": [
           "#636efa",
           "#EF553B",
           "#00cc96",
           "#ab63fa",
           "#FFA15A",
           "#19d3f3",
           "#FF6692",
           "#B6E880",
           "#FF97FF",
           "#FECB52"
          ],
          "font": {
           "color": "#2a3f5f"
          },
          "geo": {
           "bgcolor": "white",
           "lakecolor": "white",
           "landcolor": "#E5ECF6",
           "showlakes": true,
           "showland": true,
           "subunitcolor": "white"
          },
          "hoverlabel": {
           "align": "left"
          },
          "hovermode": "closest",
          "mapbox": {
           "style": "light"
          },
          "paper_bgcolor": "white",
          "plot_bgcolor": "#E5ECF6",
          "polar": {
           "angularaxis": {
            "gridcolor": "white",
            "linecolor": "white",
            "ticks": ""
           },
           "bgcolor": "#E5ECF6",
           "radialaxis": {
            "gridcolor": "white",
            "linecolor": "white",
            "ticks": ""
           }
          },
          "scene": {
           "xaxis": {
            "backgroundcolor": "#E5ECF6",
            "gridcolor": "white",
            "gridwidth": 2,
            "linecolor": "white",
            "showbackground": true,
            "ticks": "",
            "zerolinecolor": "white"
           },
           "yaxis": {
            "backgroundcolor": "#E5ECF6",
            "gridcolor": "white",
            "gridwidth": 2,
            "linecolor": "white",
            "showbackground": true,
            "ticks": "",
            "zerolinecolor": "white"
           },
           "zaxis": {
            "backgroundcolor": "#E5ECF6",
            "gridcolor": "white",
            "gridwidth": 2,
            "linecolor": "white",
            "showbackground": true,
            "ticks": "",
            "zerolinecolor": "white"
           }
          },
          "shapedefaults": {
           "line": {
            "color": "#2a3f5f"
           }
          },
          "ternary": {
           "aaxis": {
            "gridcolor": "white",
            "linecolor": "white",
            "ticks": ""
           },
           "baxis": {
            "gridcolor": "white",
            "linecolor": "white",
            "ticks": ""
           },
           "bgcolor": "#E5ECF6",
           "caxis": {
            "gridcolor": "white",
            "linecolor": "white",
            "ticks": ""
           }
          },
          "title": {
           "x": 0.05
          },
          "xaxis": {
           "automargin": true,
           "gridcolor": "white",
           "linecolor": "white",
           "ticks": "",
           "title": {
            "standoff": 15
           },
           "zerolinecolor": "white",
           "zerolinewidth": 2
          },
          "yaxis": {
           "automargin": true,
           "gridcolor": "white",
           "linecolor": "white",
           "ticks": "",
           "title": {
            "standoff": 15
           },
           "zerolinecolor": "white",
           "zerolinewidth": 2
          }
         }
        },
        "xaxis": {
         "anchor": "y",
         "domain": [
          0,
          1
         ],
         "title": {
          "text": "x"
         }
        },
        "yaxis": {
         "anchor": "x",
         "domain": [
          0,
          1
         ],
         "title": {
          "text": "y"
         }
        }
       }
      },
      "text/html": [
       "<div>                            <div id=\"57514460-2138-4a35-a145-76af92491e37\" class=\"plotly-graph-div\" style=\"height:525px; width:100%;\"></div>            <script type=\"text/javascript\">                require([\"plotly\"], function(Plotly) {                    window.PLOTLYENV=window.PLOTLYENV || {};                                    if (document.getElementById(\"57514460-2138-4a35-a145-76af92491e37\")) {                    Plotly.newPlot(                        \"57514460-2138-4a35-a145-76af92491e37\",                        [{\"hovertemplate\":\"x=%{x}\\u003cbr\\u003ey=%{y}\\u003cextra\\u003e\\u003c\\u002fextra\\u003e\",\"legendgroup\":\"\",\"line\":{\"color\":\"#636efa\",\"dash\":\"solid\"},\"marker\":{\"symbol\":\"circle\"},\"mode\":\"lines\",\"name\":\"\",\"orientation\":\"v\",\"showlegend\":false,\"x\":[563.3632379595116,571.9211423515401,521.2525689299127,539.8104113643936,532.8072418003009,536.4342450748535,564.9765480840185,565.1528542904648,563.461255751768,568.2053750294816,566.5906021948208,566.8446376875158,571.4369828076866,568.5366105924518,570.2287774172283,569.8208427559389,543.1870509332462,544.029534456716,547.24466033692,558.5226815412093,546.5642295922041,545.6366636735416,544.8755691369433,511.1406009692035,520.0164101252974,538.1222735954902,537.6104071929619,539.2136985450521,533.0584741883025,536.0081917978563,534.4071130243663,534.7463156685972,521.614263315199,522.9381924256309,523.2129931632088,580.6019707114084,575.3064822758292,577.0556107244067,542.4233055390907,541.4986676379601,540.8180133279789,561.7698371668748,561.7506987062552,560.1367077532854,560.0793812270202,553.6847582229251,510.4484323595864,519.5670413134218,516.8233856442569,517.8816028710496,518.4194465543669,512.0407505405876,516.1962467342832,515.2282405191507,526.4130313870749,578.17280247006,578.8266620623021,578.7562770928071,574.6711951164169,573.0537737418366,573.6137093763423,576.019004592191,575.7549283093655,575.7961151309132,577.0420900867139,555.2966875831011,555.0098923969927,548.2530391684875,548.853494546145,552.0735679579433,553.3204253332103,506.0854324739528,507.26671695264577,513.6340243869352,514.5109658687321,512.8257530716145,526.3097530727291,524.8125867881207,524.6239183447144,531.370708161493,531.2086621492799,528.0143142342654,527.9957028390255,529.6114750228503,529.6830035303094,582.3159409055667,582.2268950297768,581.1813720623467,581.8136866273527,580.0982992264908,579.4660468662671,578.5699045690172,578.3754130281003,579.2309450349901,578.9836676814438,576.4867693476458,576.6711683742594,577.2263375837302,577.265978370541,576.4465111523772,576.2358032660144,575.9892993255818,575.8660435389212,577.9620728948926,577.7432243025994,577.2811700666355,577.5162566931785,576.6511282512813,576.8496545627253,556.9093352479373,556.6995374899154,558.3893655359695,551.6311311233097,550.4631388700774,549.9420043182428,505.67734693115244,509.4555020142313,508.8570833113413,507.77044848325056,581.9757678906695,582.1135040248112,580.6381033731304,580.9219102823265,581.4164887131906,581.6272602348597,580.4589231886329,580.2846989686963,579.8997239620165,579.6889731752763,576.2779152594607,576.1003258966648,576.1412514350702,576.9666012427653,576.8311123392982,577.0776350846601,577.1642138649813,577.2640062409066,577.2772198365102],\"xaxis\":\"x\",\"y\":[608.7237344554256,607.8012117412547,613.3230777112947,611.3747920296166,612.0107892965751,611.726397896379,608.5355772371604,608.5493425540469,608.7327781001414,608.1608958641924,608.347984204572,608.3643742739796,607.7880369198623,608.1779706278035,607.990221830482,607.9742612523323,611.0136469486553,610.796997163102,610.4552777793674,609.2596092378702,610.6444907260317,610.626045749445,610.829990186591,614.4442280054524,613.2538631377925,611.5519009114671,611.4850269034916,611.3120826698904,612.0664085247035,611.6589339649064,611.8340762102339,611.8980083095289,613.1148154472756,613.1328583741735,612.9744775003603,610.007493357897,607.4197154152995,608.0667299528119,610.9682337788181,611.195306394964,611.1398790165672,608.9145754715565,608.9125250672442,609.0882913360431,609.1078379557164,609.7725736781728,614.0594399521112,613.5123640498138,613.5279725934271,613.700700944682,613.3915917904208,613.9287393097802,613.8880720302852,613.6629767036972,612.6900458188715,608.5888464580071,609.0183190500608,608.9649554574883,607.4166777482949,607.6021860588222,607.6110185567175,607.4609104537029,607.333822746881,607.3526381589892,608.0572776053012,609.6017305867008,609.6936392004883,610.4572849588985,610.2846094190119,609.9433084585598,609.8865784760851,614.991110549113,614.3163350133378,613.7965752455887,614.0744610222733,614.2598517194122,612.7496868706248,612.8328780494265,612.9417225611188,612.2312137184365,612.1894897728224,612.5460095062309,612.5567679752327,612.3706988801081,612.3919617587201,611.1861983992769,610.9973436706375,610.1720192542629,610.518723471994,609.6117683345473,609.2650266655423,608.83469762128,608.7093279547855,609.1641070018464,609.0705177844696,605.7244896445383,605.3710035239686,603.8244256847629,603.0731611921419,607.6884561787383,607.5728497936203,606.7513967386559,607.0680707021457,608.4732531309425,608.3625479735923,608.1558021680357,608.256730985956,607.8077296090577,607.9306700845776,609.4307499877576,609.4994882501254,609.3041987659542,610.0782260703344,610.113971769911,610.2684939979308,614.4424713591657,614.6275738510204,614.1886481924138,614.8098733155297,610.6636062069957,610.8231462732105,610.0141697651711,610.0857658441107,610.2729299956271,610.3884980682045,609.8795816788141,609.7420097835213,609.4888573318922,609.3732767755578,606.0926992826811,606.4420855483131,606.3170072860348,604.7082018355616,605.0322409209786,604.3988862677188,604.1042942174538,603.5592806696473,603.3088591721063],\"yaxis\":\"y\",\"type\":\"scatter\"}],                        {\"template\":{\"data\":{\"histogram2dcontour\":[{\"type\":\"histogram2dcontour\",\"colorbar\":{\"outlinewidth\":0,\"ticks\":\"\"},\"colorscale\":[[0.0,\"#0d0887\"],[0.1111111111111111,\"#46039f\"],[0.2222222222222222,\"#7201a8\"],[0.3333333333333333,\"#9c179e\"],[0.4444444444444444,\"#bd3786\"],[0.5555555555555556,\"#d8576b\"],[0.6666666666666666,\"#ed7953\"],[0.7777777777777778,\"#fb9f3a\"],[0.8888888888888888,\"#fdca26\"],[1.0,\"#f0f921\"]]}],\"choropleth\":[{\"type\":\"choropleth\",\"colorbar\":{\"outlinewidth\":0,\"ticks\":\"\"}}],\"histogram2d\":[{\"type\":\"histogram2d\",\"colorbar\":{\"outlinewidth\":0,\"ticks\":\"\"},\"colorscale\":[[0.0,\"#0d0887\"],[0.1111111111111111,\"#46039f\"],[0.2222222222222222,\"#7201a8\"],[0.3333333333333333,\"#9c179e\"],[0.4444444444444444,\"#bd3786\"],[0.5555555555555556,\"#d8576b\"],[0.6666666666666666,\"#ed7953\"],[0.7777777777777778,\"#fb9f3a\"],[0.8888888888888888,\"#fdca26\"],[1.0,\"#f0f921\"]]}],\"heatmap\":[{\"type\":\"heatmap\",\"colorbar\":{\"outlinewidth\":0,\"ticks\":\"\"},\"colorscale\":[[0.0,\"#0d0887\"],[0.1111111111111111,\"#46039f\"],[0.2222222222222222,\"#7201a8\"],[0.3333333333333333,\"#9c179e\"],[0.4444444444444444,\"#bd3786\"],[0.5555555555555556,\"#d8576b\"],[0.6666666666666666,\"#ed7953\"],[0.7777777777777778,\"#fb9f3a\"],[0.8888888888888888,\"#fdca26\"],[1.0,\"#f0f921\"]]}],\"heatmapgl\":[{\"type\":\"heatmapgl\",\"colorbar\":{\"outlinewidth\":0,\"ticks\":\"\"},\"colorscale\":[[0.0,\"#0d0887\"],[0.1111111111111111,\"#46039f\"],[0.2222222222222222,\"#7201a8\"],[0.3333333333333333,\"#9c179e\"],[0.4444444444444444,\"#bd3786\"],[0.5555555555555556,\"#d8576b\"],[0.6666666666666666,\"#ed7953\"],[0.7777777777777778,\"#fb9f3a\"],[0.8888888888888888,\"#fdca26\"],[1.0,\"#f0f921\"]]}],\"contourcarpet\":[{\"type\":\"contourcarpet\",\"colorbar\":{\"outlinewidth\":0,\"ticks\":\"\"}}],\"contour\":[{\"type\":\"contour\",\"colorbar\":{\"outlinewidth\":0,\"ticks\":\"\"},\"colorscale\":[[0.0,\"#0d0887\"],[0.1111111111111111,\"#46039f\"],[0.2222222222222222,\"#7201a8\"],[0.3333333333333333,\"#9c179e\"],[0.4444444444444444,\"#bd3786\"],[0.5555555555555556,\"#d8576b\"],[0.6666666666666666,\"#ed7953\"],[0.7777777777777778,\"#fb9f3a\"],[0.8888888888888888,\"#fdca26\"],[1.0,\"#f0f921\"]]}],\"surface\":[{\"type\":\"surface\",\"colorbar\":{\"outlinewidth\":0,\"ticks\":\"\"},\"colorscale\":[[0.0,\"#0d0887\"],[0.1111111111111111,\"#46039f\"],[0.2222222222222222,\"#7201a8\"],[0.3333333333333333,\"#9c179e\"],[0.4444444444444444,\"#bd3786\"],[0.5555555555555556,\"#d8576b\"],[0.6666666666666666,\"#ed7953\"],[0.7777777777777778,\"#fb9f3a\"],[0.8888888888888888,\"#fdca26\"],[1.0,\"#f0f921\"]]}],\"mesh3d\":[{\"type\":\"mesh3d\",\"colorbar\":{\"outlinewidth\":0,\"ticks\":\"\"}}],\"scatter\":[{\"fillpattern\":{\"fillmode\":\"overlay\",\"size\":10,\"solidity\":0.2},\"type\":\"scatter\"}],\"parcoords\":[{\"type\":\"parcoords\",\"line\":{\"colorbar\":{\"outlinewidth\":0,\"ticks\":\"\"}}}],\"scatterpolargl\":[{\"type\":\"scatterpolargl\",\"marker\":{\"colorbar\":{\"outlinewidth\":0,\"ticks\":\"\"}}}],\"bar\":[{\"error_x\":{\"color\":\"#2a3f5f\"},\"error_y\":{\"color\":\"#2a3f5f\"},\"marker\":{\"line\":{\"color\":\"#E5ECF6\",\"width\":0.5},\"pattern\":{\"fillmode\":\"overlay\",\"size\":10,\"solidity\":0.2}},\"type\":\"bar\"}],\"scattergeo\":[{\"type\":\"scattergeo\",\"marker\":{\"colorbar\":{\"outlinewidth\":0,\"ticks\":\"\"}}}],\"scatterpolar\":[{\"type\":\"scatterpolar\",\"marker\":{\"colorbar\":{\"outlinewidth\":0,\"ticks\":\"\"}}}],\"histogram\":[{\"marker\":{\"pattern\":{\"fillmode\":\"overlay\",\"size\":10,\"solidity\":0.2}},\"type\":\"histogram\"}],\"scattergl\":[{\"type\":\"scattergl\",\"marker\":{\"colorbar\":{\"outlinewidth\":0,\"ticks\":\"\"}}}],\"scatter3d\":[{\"type\":\"scatter3d\",\"line\":{\"colorbar\":{\"outlinewidth\":0,\"ticks\":\"\"}},\"marker\":{\"colorbar\":{\"outlinewidth\":0,\"ticks\":\"\"}}}],\"scattermapbox\":[{\"type\":\"scattermapbox\",\"marker\":{\"colorbar\":{\"outlinewidth\":0,\"ticks\":\"\"}}}],\"scatterternary\":[{\"type\":\"scatterternary\",\"marker\":{\"colorbar\":{\"outlinewidth\":0,\"ticks\":\"\"}}}],\"scattercarpet\":[{\"type\":\"scattercarpet\",\"marker\":{\"colorbar\":{\"outlinewidth\":0,\"ticks\":\"\"}}}],\"carpet\":[{\"aaxis\":{\"endlinecolor\":\"#2a3f5f\",\"gridcolor\":\"white\",\"linecolor\":\"white\",\"minorgridcolor\":\"white\",\"startlinecolor\":\"#2a3f5f\"},\"baxis\":{\"endlinecolor\":\"#2a3f5f\",\"gridcolor\":\"white\",\"linecolor\":\"white\",\"minorgridcolor\":\"white\",\"startlinecolor\":\"#2a3f5f\"},\"type\":\"carpet\"}],\"table\":[{\"cells\":{\"fill\":{\"color\":\"#EBF0F8\"},\"line\":{\"color\":\"white\"}},\"header\":{\"fill\":{\"color\":\"#C8D4E3\"},\"line\":{\"color\":\"white\"}},\"type\":\"table\"}],\"barpolar\":[{\"marker\":{\"line\":{\"color\":\"#E5ECF6\",\"width\":0.5},\"pattern\":{\"fillmode\":\"overlay\",\"size\":10,\"solidity\":0.2}},\"type\":\"barpolar\"}],\"pie\":[{\"automargin\":true,\"type\":\"pie\"}]},\"layout\":{\"autotypenumbers\":\"strict\",\"colorway\":[\"#636efa\",\"#EF553B\",\"#00cc96\",\"#ab63fa\",\"#FFA15A\",\"#19d3f3\",\"#FF6692\",\"#B6E880\",\"#FF97FF\",\"#FECB52\"],\"font\":{\"color\":\"#2a3f5f\"},\"hovermode\":\"closest\",\"hoverlabel\":{\"align\":\"left\"},\"paper_bgcolor\":\"white\",\"plot_bgcolor\":\"#E5ECF6\",\"polar\":{\"bgcolor\":\"#E5ECF6\",\"angularaxis\":{\"gridcolor\":\"white\",\"linecolor\":\"white\",\"ticks\":\"\"},\"radialaxis\":{\"gridcolor\":\"white\",\"linecolor\":\"white\",\"ticks\":\"\"}},\"ternary\":{\"bgcolor\":\"#E5ECF6\",\"aaxis\":{\"gridcolor\":\"white\",\"linecolor\":\"white\",\"ticks\":\"\"},\"baxis\":{\"gridcolor\":\"white\",\"linecolor\":\"white\",\"ticks\":\"\"},\"caxis\":{\"gridcolor\":\"white\",\"linecolor\":\"white\",\"ticks\":\"\"}},\"coloraxis\":{\"colorbar\":{\"outlinewidth\":0,\"ticks\":\"\"}},\"colorscale\":{\"sequential\":[[0.0,\"#0d0887\"],[0.1111111111111111,\"#46039f\"],[0.2222222222222222,\"#7201a8\"],[0.3333333333333333,\"#9c179e\"],[0.4444444444444444,\"#bd3786\"],[0.5555555555555556,\"#d8576b\"],[0.6666666666666666,\"#ed7953\"],[0.7777777777777778,\"#fb9f3a\"],[0.8888888888888888,\"#fdca26\"],[1.0,\"#f0f921\"]],\"sequentialminus\":[[0.0,\"#0d0887\"],[0.1111111111111111,\"#46039f\"],[0.2222222222222222,\"#7201a8\"],[0.3333333333333333,\"#9c179e\"],[0.4444444444444444,\"#bd3786\"],[0.5555555555555556,\"#d8576b\"],[0.6666666666666666,\"#ed7953\"],[0.7777777777777778,\"#fb9f3a\"],[0.8888888888888888,\"#fdca26\"],[1.0,\"#f0f921\"]],\"diverging\":[[0,\"#8e0152\"],[0.1,\"#c51b7d\"],[0.2,\"#de77ae\"],[0.3,\"#f1b6da\"],[0.4,\"#fde0ef\"],[0.5,\"#f7f7f7\"],[0.6,\"#e6f5d0\"],[0.7,\"#b8e186\"],[0.8,\"#7fbc41\"],[0.9,\"#4d9221\"],[1,\"#276419\"]]},\"xaxis\":{\"gridcolor\":\"white\",\"linecolor\":\"white\",\"ticks\":\"\",\"title\":{\"standoff\":15},\"zerolinecolor\":\"white\",\"automargin\":true,\"zerolinewidth\":2},\"yaxis\":{\"gridcolor\":\"white\",\"linecolor\":\"white\",\"ticks\":\"\",\"title\":{\"standoff\":15},\"zerolinecolor\":\"white\",\"automargin\":true,\"zerolinewidth\":2},\"scene\":{\"xaxis\":{\"backgroundcolor\":\"#E5ECF6\",\"gridcolor\":\"white\",\"linecolor\":\"white\",\"showbackground\":true,\"ticks\":\"\",\"zerolinecolor\":\"white\",\"gridwidth\":2},\"yaxis\":{\"backgroundcolor\":\"#E5ECF6\",\"gridcolor\":\"white\",\"linecolor\":\"white\",\"showbackground\":true,\"ticks\":\"\",\"zerolinecolor\":\"white\",\"gridwidth\":2},\"zaxis\":{\"backgroundcolor\":\"#E5ECF6\",\"gridcolor\":\"white\",\"linecolor\":\"white\",\"showbackground\":true,\"ticks\":\"\",\"zerolinecolor\":\"white\",\"gridwidth\":2}},\"shapedefaults\":{\"line\":{\"color\":\"#2a3f5f\"}},\"annotationdefaults\":{\"arrowcolor\":\"#2a3f5f\",\"arrowhead\":0,\"arrowwidth\":1},\"geo\":{\"bgcolor\":\"white\",\"landcolor\":\"#E5ECF6\",\"subunitcolor\":\"white\",\"showland\":true,\"showlakes\":true,\"lakecolor\":\"white\"},\"title\":{\"x\":0.05},\"mapbox\":{\"style\":\"light\"}}},\"xaxis\":{\"anchor\":\"y\",\"domain\":[0.0,1.0],\"title\":{\"text\":\"x\"}},\"yaxis\":{\"anchor\":\"x\",\"domain\":[0.0,1.0],\"title\":{\"text\":\"y\"}},\"legend\":{\"tracegroupgap\":0},\"margin\":{\"t\":60}},                        {\"responsive\": true}                    ).then(function(){\n",
       "                            \n",
       "var gd = document.getElementById('57514460-2138-4a35-a145-76af92491e37');\n",
       "var x = new MutationObserver(function (mutations, observer) {{\n",
       "        var display = window.getComputedStyle(gd).display;\n",
       "        if (!display || display === 'none') {{\n",
       "            console.log([gd, 'removed!']);\n",
       "            Plotly.purge(gd);\n",
       "            observer.disconnect();\n",
       "        }}\n",
       "}});\n",
       "\n",
       "// Listen for the removal of the full notebook cells\n",
       "var notebookContainer = gd.closest('#notebook-container');\n",
       "if (notebookContainer) {{\n",
       "    x.observe(notebookContainer, {childList: true});\n",
       "}}\n",
       "\n",
       "// Listen for the clearing of the current output cell\n",
       "var outputEl = gd.closest('.output');\n",
       "if (outputEl) {{\n",
       "    x.observe(outputEl, {childList: true});\n",
       "}}\n",
       "\n",
       "                        })                };                });            </script>        </div>"
      ]
     },
     "metadata": {},
     "output_type": "display_data"
    }
   ],
   "source": [
    "px.line(machining_positions_df[machining_positions_df[\"shape\"]==0], x=\"x\", y=\"y\")"
   ]
  }
 ],
 "metadata": {
  "kernelspec": {
   "display_name": "papa-bezier",
   "language": "python",
   "name": "python3"
  },
  "language_info": {
   "codemirror_mode": {
    "name": "ipython",
    "version": 3
   },
   "file_extension": ".py",
   "mimetype": "text/x-python",
   "name": "python",
   "nbconvert_exporter": "python",
   "pygments_lexer": "ipython3",
   "version": "3.9.17"
  }
 },
 "nbformat": 4,
 "nbformat_minor": 2
}
